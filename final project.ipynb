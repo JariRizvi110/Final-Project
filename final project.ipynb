{
 "cells": [
  {
   "cell_type": "code",
   "execution_count": null,
   "id": "b927d385",
   "metadata": {},
   "outputs": [],
   "source": [
    "from tkinter import*\n",
    "\n",
    "root = Tk()\n",
    "\n",
    "root.geometry(\"500x300\")\n",
    "\n",
    "def getvals():\n",
    "    print(\"Accepted\")\n",
    "\n",
    "Label(root, text=\"Registration Form\", font=\"ar 15 bold\").grid(row=0, column=3)\n",
    "\n",
    "fullname = Label(root, text=\"Full Name\")\n",
    "email = Label(root, text=\"Email\")\n",
    "gender = Label(root, text=\"Gender\")\n",
    "country = Label(root, text=\"Country\")\n",
    "programming = Label(root, text=\"Programming\")\n",
    "\n",
    "fullname.grid(row=1, column=2)\n",
    "email.grid(row=2, column=2)\n",
    "gender.grid(row=3, column=2)\n",
    "country.grid(row=4, column=2)\n",
    "programming.grid(row=5, column=2)\n",
    "\n",
    "fullnamevalue = StringVar\n",
    "emailvalue = StringVar\n",
    "gendervalue = StringVar\n",
    "countryvalue = StringVar\n",
    "programmingvalue = StringVar\n",
    "checkvalue = IntVar\n",
    "\n",
    "fullnameentry = Entry(root, textvariable =fullnamevalue)\n",
    "emailentry = Entry(root, textvariable =emailvalue)\n",
    "genderentry = Entry(root, textvariable =gendervalue)\n",
    "countryentry = Entry(root, textvariable =countryvalue)\n",
    "programmingentry = Entry(root, textvariable =programmingvalue)\n",
    "\n",
    "fullnameentry.grid(row=1, column=3)\n",
    "emailentry.grid(row=2, column=3)\n",
    "genderentry.grid(row=3, column=3)\n",
    "countryentry.grid(row=4, column=3)\n",
    "programmingentry.grid(row=5, column=3)\n",
    "\n",
    "Button(text=\"Submit\", command=getvals).grid(row=7, column=3)\n",
    "\n",
    "root.mainloop()"
   ]
  },
  {
   "cell_type": "code",
   "execution_count": 2,
   "id": "e3e8de59",
   "metadata": {},
   "outputs": [],
   "source": [
    "def shut_down(s):\n",
    "    if s == \"Yes\":\n",
    "        return print(\"Shutting Down\")\n",
    "    elif s == \"No\":\n",
    "          return print(\"ShutDown Aborted\")\n",
    "    else:\n",
    "        print(\"Sorry\")"
   ]
  },
  {
   "cell_type": "code",
   "execution_count": 3,
   "id": "44a18508",
   "metadata": {},
   "outputs": [
    {
     "name": "stdout",
     "output_type": "stream",
     "text": [
      "Shutting Down\n"
     ]
    }
   ],
   "source": [
    "shut_down(\"Yes\")"
   ]
  },
  {
   "cell_type": "code",
   "execution_count": 4,
   "id": "896afd22",
   "metadata": {},
   "outputs": [
    {
     "name": "stdout",
     "output_type": "stream",
     "text": [
      "ShutDown Aborted\n"
     ]
    }
   ],
   "source": [
    "shut_down(\"No\")"
   ]
  },
  {
   "cell_type": "code",
   "execution_count": 5,
   "id": "e910b31a",
   "metadata": {},
   "outputs": [
    {
     "name": "stdout",
     "output_type": "stream",
     "text": [
      "Sorry\n"
     ]
    }
   ],
   "source": [
    "shut_down(\"fewuh53\")"
   ]
  },
  {
   "cell_type": "code",
   "execution_count": 10,
   "id": "9b5f5180",
   "metadata": {},
   "outputs": [
    {
     "data": {
      "image/png": "[encoded data removed]",
      "text/plain": [
       "<Figure size 432x288 with 1 Axes>"
      ]
     },
     "metadata": {
      "needs_background": "light"
     },
     "output_type": "display_data"
    }
   ],
   "source": [
    "import matplotlib.pyplot as plt \n",
    "import pandas as pd \n",
    "\n",
    "data = {\"x\":[0,1,2,3,4,5,6,7,8] , \n",
    "        \"y\":[10,30,20,50,63,34,35,12,32]}\n",
    "graph = pd.DataFrame(data)\n",
    "graph.plot(x=\"x\" , y=\"y\",linestyle=\"--\",color=\"green\",marker=\"*\",markerfacecolor=\"red\",markersize=9)\n",
    "plt.title(\"Graph Title\")\n",
    "plt.xlabel(\"x axis\")\n",
    "plt.ylabel(\"y axis\")\n",
    "plt.show()"
   ]
  },
  {
   "cell_type": "code",
   "execution_count": 6,
   "id": "9ebd3811",
   "metadata": {},
   "outputs": [
    {
     "name": "stdout",
     "output_type": "stream",
     "text": [
      "Count\n",
      "Count\n",
      "Count\n",
      "Count\n",
      "Count\n",
      "Count\n",
      "Done\n"
     ]
    }
   ],
   "source": [
    "count = 1\n",
    "while count <= 12:\n",
    "    if count % 2 == 0:\n",
    "        print(\"Count\")\n",
    "    count = count+1\n",
    "    if count > 12:\n",
    "        print(\"Done\")"
   ]
  },
  {
   "cell_type": "code",
   "execution_count": 7,
   "id": "d288d270",
   "metadata": {},
   "outputs": [
    {
     "name": "stdout",
     "output_type": "stream",
     "text": [
      "M ?\n",
      "y ?\n",
      "b ?\n",
      "l ?\n",
      "o ?\n",
      "g ?\n"
     ]
    }
   ],
   "source": [
    "for i in \"Myblog\":\n",
    "    print(i,\"?\")"
   ]
  },
  {
   "cell_type": "code",
   "execution_count": 8,
   "id": "6c5a7f4e",
   "metadata": {},
   "outputs": [
    {
     "name": "stdout",
     "output_type": "stream",
     "text": [
      "wod"
     ]
    }
   ],
   "source": [
    "for letter in \"word\":\n",
    "    if letter== \"r\":\n",
    "         continue\n",
    "    print(letter,end =\"\")"
   ]
  },
  {
   "cell_type": "code",
   "execution_count": 9,
   "id": "4f948837",
   "metadata": {},
   "outputs": [
    {
     "data": {
      "text/plain": [
       "<function matplotlib.pyplot.xlabel(xlabel, fontdict=None, labelpad=None, *, loc=None, **kwargs)>"
      ]
     },
     "execution_count": 9,
     "metadata": {},
     "output_type": "execute_result"
    },
    {
     "data": {
      "image/png": "[encoded data removed]",
      "text/plain": [
       "<Figure size 432x288 with 1 Axes>"
      ]
     },
     "metadata": {
      "needs_background": "light"
     },
     "output_type": "display_data"
    }
   ],
   "source": [
    "import pandas as pd\n",
    "import matplotlib.pyplot as plt\n",
    "\n",
    "newdata = { \"x\":[0,0.8,2,3,4,4.9,6,7.1,7.9,8.6] ,\n",
    "            \"y\":[1.2,0.9,-1.2,0.7,-1.4,-1.6,1.5,0.8,0.1,-2.0]  }\n",
    "\n",
    "newgraph = pd.DataFrame(newdata)\n",
    "newgraph.plot(x=\"x\",y=\"y\",color=\"blue\",marker=\"o\",markerfacecolor=\"white\",markersize=12)\n",
    "\n",
    "plt.xlabel"
   ]
  },
  {
   "cell_type": "code",
   "execution_count": null,
   "id": "d331b0ac",
   "metadata": {},
   "outputs": [],
   "source": []
  },
  {
   "cell_type": "code",
   "execution_count": null,
   "id": "5980e4f1",
   "metadata": {},
   "outputs": [],
   "source": []
  },
  {
   "cell_type": "code",
   "execution_count": null,
   "id": "8732765f",
   "metadata": {},
   "outputs": [],
   "source": []
  }
 ],
 "metadata": {
  "kernelspec": {
   "display_name": "Python 3 (ipykernel)",
   "language": "python",
   "name": "python3"
  },
  "language_info": {
   "codemirror_mode": {
    "name": "ipython",
    "version": 3
   },
   "file_extension": ".py",
   "mimetype": "text/x-python",
   "name": "python",
   "nbconvert_exporter": "python",
   "pygments_lexer": "ipython3",
   "version": "3.8.7"
  }
 },
 "nbformat": 4,
 "nbformat_minor": 5
}
